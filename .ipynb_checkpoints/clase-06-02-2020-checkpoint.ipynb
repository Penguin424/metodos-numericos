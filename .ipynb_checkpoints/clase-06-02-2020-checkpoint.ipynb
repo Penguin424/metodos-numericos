{
 "cells": [
  {
   "cell_type": "code",
   "execution_count": 2,
   "metadata": {},
   "outputs": [],
   "source": [
    "import numpy as np \n",
    "import matplotlib.pyplot as plt"
   ]
  },
  {
   "cell_type": "code",
   "execution_count": 8,
   "metadata": {},
   "outputs": [],
   "source": [
    "def falsa_posicion(xi,xd,xiF,xdF,pepsy,funcion, iterMAX):\n",
    "    \n",
    "    for i in range(1, iterMAX + 1):\n",
    "        \n",
    "        xm = (xi*funcion(xdF)-xd*funcion(xiF))/(funcion(xdF)-funcion(xiF))\n",
    "\n",
    "        if np.abs(funcion(xm)) < pepsy:\n",
    "            print('\\nSolucion econtrada en la iteracion {}'.format(i))\n",
    "            return xm\n",
    "            break\n",
    "\n",
    "\n",
    "        if funcion(xm) * funcion(xd) > 0:\n",
    "            xd = xm\n",
    "        if funcion(xm) * funcion(xd) < 0:\n",
    "            xi = xm\n",
    "\n",
    "def biseccion(xi,xd,pepsy,iterMax):\n",
    "    for i in range(1, interMax + 1):\n",
    "        n = (np.log(xd - xi) - np.log(pepsy))/np.log(2)\n",
    "        xm = (xd+xi)/2\n",
    "        \n",
    "        if np.abs(xd - xi) < pepsy:\n",
    "            print('\\nSolucion econtrada en la iteracion {}'.format(i))\n",
    "            return xm\n",
    "            break\n",
    "        \n",
    "        if funcion(xm) * funcion(xd) > 0:\n",
    "            xd = xm\n",
    "        if funcion(xm) * funcion(xd) < 0:\n",
    "            xi = xm\n",
    "    \n",
    "    \n",
    "            \n",
    "            \n",
    "def funcion(x):\n",
    "    return x**3+2*x**2+10*x-20"
   ]
  },
  {
   "cell_type": "code",
   "execution_count": 9,
   "metadata": {},
   "outputs": [
    {
     "name": "stdout",
     "output_type": "stream",
     "text": [
      "\n",
      "Solucion econtrada en la iteracion 58\n"
     ]
    },
    {
     "data": {
      "text/plain": [
       "1.3688534061356663"
      ]
     },
     "execution_count": 9,
     "metadata": {},
     "output_type": "execute_result"
    }
   ],
   "source": [
    "falsa_posicion(1,2,16,-7,10**-3,funcion,200)"
   ]
  },
  {
   "cell_type": "code",
   "execution_count": null,
   "metadata": {},
   "outputs": [],
   "source": []
  }
 ],
 "metadata": {
  "kernelspec": {
   "display_name": "Python 3",
   "language": "python",
   "name": "python3"
  },
  "language_info": {
   "codemirror_mode": {
    "name": "ipython",
    "version": 3
   },
   "file_extension": ".py",
   "mimetype": "text/x-python",
   "name": "python",
   "nbconvert_exporter": "python",
   "pygments_lexer": "ipython3",
   "version": "3.7.4"
  }
 },
 "nbformat": 4,
 "nbformat_minor": 2
}
