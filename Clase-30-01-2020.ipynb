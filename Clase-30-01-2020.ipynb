{
 "cells": [
  {
   "cell_type": "code",
   "execution_count": 11,
   "metadata": {},
   "outputs": [],
   "source": [
    "import numpy as np \n",
    "import matplotlib.pyplot as plt\n",
    "\n",
    "def newton(f,df,x0,pepsy,max_iter):\n",
    "    xn = x0\n",
    "    for n in range(0,max_iter):\n",
    "        fxn = f(xn)\n",
    "        if np.abs(fxn) < pepsy:\n",
    "            print('\\nSolucion econtrada en la iteracion {}'.format(n))\n",
    "            return xn\n",
    "            break\n",
    "        dfxn = df(xn)\n",
    "        if dfxn == 0:\n",
    "            print('La derivada es cero da error')\n",
    "            return None\n",
    "            break\n",
    "        xn = xn - fxn/dfxn\n",
    "    print('EL limite de iteracion no obtuvo la respuesta')\n",
    "    return None\n",
    "\n",
    "def metodoSecante(x0,x1,pepsy,funcion,max_iter):\n",
    "        for i in range(1, max_iter):\n",
    "            x= x1 - (x1-x0)*funcion(x1)/(funcion(x1)-funcion(x0))\n",
    "            if abs(x-x1)<pepsy:\n",
    "                print('\\nValor econtrando en la iteracion {}'.format(i))\n",
    "                return x\n",
    "                break           \n",
    "            x0=x1\n",
    "            x1= x       \n",
    "        print(\"No se econtro una respusta posible en ninguna iteracion\")\n",
    "\n",
    "\n",
    "def funcion(x):\n",
    "    return x**3+2*x**2+10*x-20\n",
    "\n",
    "def funcionDerivada(x):\n",
    "    return 3*x**2+4*x+10"
   ]
  },
  {
   "cell_type": "code",
   "execution_count": 12,
   "metadata": {},
   "outputs": [
    {
     "name": "stdout",
     "output_type": "stream",
     "text": [
      "\n",
      "Solucion econtrada en la iteracion 3\n",
      "1.3688081886175318\n",
      "\n",
      "Valor econtrando en la iteracion 4\n",
      "1.3688074597219246\n"
     ]
    }
   ],
   "source": [
    "x0 = 1\n",
    "x1= 2\n",
    "pepsy = 1*10**-3\n",
    "\n",
    "print(newton(funcion, funcionDerivada, x0, pepsy, 200))\n",
    "print(metodoSecante(x0, x1, pepsy, funcion,200))"
   ]
  },
  {
   "cell_type": "code",
   "execution_count": null,
   "metadata": {},
   "outputs": [],
   "source": []
  }
 ],
 "metadata": {
  "kernelspec": {
   "display_name": "Python 3",
   "language": "python",
   "name": "python3"
  },
  "language_info": {
   "codemirror_mode": {
    "name": "ipython",
    "version": 3
   },
   "file_extension": ".py",
   "mimetype": "text/x-python",
   "name": "python",
   "nbconvert_exporter": "python",
   "pygments_lexer": "ipython3",
   "version": "3.7.4"
  }
 },
 "nbformat": 4,
 "nbformat_minor": 2
}
