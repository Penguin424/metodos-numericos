{
 "cells": [
  {
   "cell_type": "code",
   "execution_count": 2,
   "metadata": {},
   "outputs": [],
   "source": [
    "import numpy as np\n",
    "import matplotlib.pyplot as plt\n",
    "import math as mth"
   ]
  },
  {
   "cell_type": "code",
   "execution_count": 3,
   "metadata": {},
   "outputs": [],
   "source": [
    "valor_obtenido = 1.2\n",
    "valor_real = 1.25"
   ]
  },
  {
   "cell_type": "code",
   "execution_count": 4,
   "metadata": {},
   "outputs": [],
   "source": [
    "eam = valor_obtenido - valor_real"
   ]
  },
  {
   "cell_type": "code",
   "execution_count": 5,
   "metadata": {},
   "outputs": [],
   "source": [
    "erm = round(np.abs(eam/valor_real * 100), 3)"
   ]
  },
  {
   "cell_type": "code",
   "execution_count": 6,
   "metadata": {},
   "outputs": [
    {
     "name": "stdout",
     "output_type": "stream",
     "text": [
      "4.0%\n"
     ]
    }
   ],
   "source": [
    "print(\"{}%\".format(erm))"
   ]
  },
  {
   "cell_type": "code",
   "execution_count": 7,
   "metadata": {},
   "outputs": [],
   "source": [
    "#2x²-x-5"
   ]
  },
  {
   "cell_type": "code",
   "execution_count": 26,
   "metadata": {},
   "outputs": [],
   "source": [
    "#BLOQUE DE FUNCIONES\n",
    "\n",
    "def funcion(x):\n",
    "    return mth.sqrt((x+5)/2)\n",
    "\n",
    "def funcion2(x):\n",
    "    return 5/(2*x-1)\n",
    "\n",
    "def funcionTarea(x):\n",
    "    return -np.cos(x)/-3\n",
    "\n",
    "def metodoNumerico(x_incial, funcionEvaluar):\n",
    "    for i in range(1,1001):\n",
    "        x_obtenida = funcionEvaluar(x_incial)\n",
    "        x_incial = x_obtenida\n",
    "\n",
    "        if x_obtenida == funcionEvaluar(x_obtenida):\n",
    "            print(i)\n",
    "            print(x_obtenida)\n",
    "            break\n",
    "    "
   ]
  },
  {
   "cell_type": "code",
   "execution_count": 27,
   "metadata": {},
   "outputs": [
    {
     "name": "stdout",
     "output_type": "stream",
     "text": [
      "16\n",
      "0.3167508287712212\n"
     ]
    }
   ],
   "source": [
    "x_incial = 2\n",
    "x_incial2 = np.pi/8 \n",
    "\n",
    "metodoNumerico(x_incial2, funcionTarea)\n",
    "        "
   ]
  },
  {
   "cell_type": "code",
   "execution_count": null,
   "metadata": {},
   "outputs": [],
   "source": []
  }
 ],
 "metadata": {
  "kernelspec": {
   "display_name": "Python 3",
   "language": "python",
   "name": "python3"
  },
  "language_info": {
   "codemirror_mode": {
    "name": "ipython",
    "version": 3
   },
   "file_extension": ".py",
   "mimetype": "text/x-python",
   "name": "python",
   "nbconvert_exporter": "python",
   "pygments_lexer": "ipython3",
   "version": "3.7.4"
  }
 },
 "nbformat": 4,
 "nbformat_minor": 2
}
